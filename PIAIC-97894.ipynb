{
 "cells": [
  {
   "cell_type": "markdown",
   "metadata": {},
   "source": [
    "Question 1: Ticket Pricing System"
   ]
  },
  {
   "cell_type": "code",
   "execution_count": 1,
   "metadata": {},
   "outputs": [
    {
     "name": "stdout",
     "output_type": "stream",
     "text": [
      "Ticket Price: $10\n"
     ]
    }
   ],
   "source": [
    "age = int(input(\"Age: \"))  # Get the user's age as input\n",
    "\n",
    "if age < 5:\n",
    "  price = 0  # Ticket is free for under 5\n",
    "elif age >= 5 and age <= 17:\n",
    "  price = 10  # Ticket price is $10 for ages 5 to 17\n",
    "elif age >= 18 and age <= 60:\n",
    "  price = 20  # Ticket price is $20 for ages 18 to 60\n",
    "else:\n",
    "  price = 15  # Ticket price is $15 for ages above 60\n",
    "\n",
    "print(\"Ticket Price: $\" + str(price))  # Print the ticket price"
   ]
  },
  {
   "cell_type": "markdown",
   "metadata": {},
   "source": [
    "Question 2: Meal Recommendation"
   ]
  },
  {
   "cell_type": "code",
   "execution_count": 11,
   "metadata": {},
   "outputs": [
    {
     "name": "stdout",
     "output_type": "stream",
     "text": [
      "It's time for Late-night Snack\n"
     ]
    }
   ],
   "source": [
    "time = int(input(\"Time: \"))  # Get the time in 24-hour format\n",
    "\n",
    "if time >= 5 and time <= 11:\n",
    "  meal = \"Breakfast\"  # Recommend Breakfast for 5 AM to 11 AM\n",
    "elif time >= 12 and time <= 16:\n",
    "  meal = \"Lunch\"  # Recommend Lunch for 12 PM to 4 PM\n",
    "elif time >= 17 and time <= 21:\n",
    "  meal = \"Dinner\"  # Recommend Dinner for 5 PM to 9 PM\n",
    "elif time >= 22 or time <= 4:\n",
    "  meal = \"Late-night Snack\"  # Recommend Late-night Snack for 10 PM to 4 AM\n",
    "\n",
    "print(\"It's time for \" + meal)  # Print the meal recommendation"
   ]
  },
  {
   "cell_type": "markdown",
   "metadata": {},
   "source": [
    "Question 3: Grocery Bill Calculator"
   ]
  },
  {
   "cell_type": "code",
   "execution_count": 16,
   "metadata": {},
   "outputs": [
    {
     "name": "stdout",
     "output_type": "stream",
     "text": [
      "Total Bill: $1500.0\n",
      "Discounted Total: $1350.0\n"
     ]
    }
   ],
   "source": [
    "prices = input(\"Prices: \").split(\",\")  # Get prices as input, separated by commas\n",
    "prices = [float(price) for price in prices]  # Convert prices to floats\n",
    "\n",
    "total_bill = sum(prices)  # Calculate the total bill\n",
    "\n",
    "print(\"Total Bill: $\" + str(total_bill))  # Print the total bill\n",
    "\n",
    "if total_bill >= 100:\n",
    "  discount = total_bill * 0.1  # Calculate the discount (10%)\n",
    "  discounted_total = total_bill - discount  # Apply the discount\n",
    "  print(\"Discounted Total: $\" + str(discounted_total))  # Print the discounted total\n",
    "  "
   ]
  },
  {
   "cell_type": "markdown",
   "metadata": {},
   "source": [
    "Question 4: Username Validator"
   ]
  },
  {
   "cell_type": "code",
   "execution_count": 33,
   "metadata": {},
   "outputs": [
    {
     "name": "stdout",
     "output_type": "stream",
     "text": [
      "Valid username : Toqeel Butt\n"
     ]
    }
   ],
   "source": [
    "username = input(\"Username: \")\n",
    "\n",
    "if 5 <= len(username) <= 15 and username[0].isalpha():\n",
    "    print(\"Valid username : \" + username)\n",
    "else:\n",
    "    print(\"Invalid username\")"
   ]
  },
  {
   "cell_type": "markdown",
   "metadata": {},
   "source": [
    "Question 5: Travel Destination Suggestion"
   ]
  },
  {
   "cell_type": "code",
   "execution_count": 42,
   "metadata": {},
   "outputs": [
    {
     "name": "stdout",
     "output_type": "stream",
     "text": [
      "Time for a ski trip!\n"
     ]
    }
   ],
   "source": [
    "weather = input(\"Weather: \")\n",
    "\n",
    "if weather.lower() == \"sunny\":\n",
    "  print(\"Go to the beach!\")\n",
    "elif weather.lower() == \"rainy\":\n",
    "  print(\"Visit a cozy mountain lodge!\")\n",
    "elif weather.lower() == \"snowy\":\n",
    "  print(\"Time for a ski trip!\")\n",
    "else:\n",
    "  print(\"Invalid weather input. Please enter Sunny, Rainy, or Snowy.\")"
   ]
  },
  {
   "cell_type": "markdown",
   "metadata": {},
   "source": [
    "Question 6: Discount Eligibility Checker"
   ]
  },
  {
   "cell_type": "code",
   "execution_count": 45,
   "metadata": {},
   "outputs": [
    {
     "name": "stdout",
     "output_type": "stream",
     "text": [
      "Eligible for a discount\n"
     ]
    }
   ],
   "source": [
    "total_spent = float(input(\"Total Spent: \"))\n",
    "loyalty_member = input(\"Loyalty Member (Yes/No): \")\n",
    "\n",
    "if total_spent > 200 or loyalty_member.lower() == \"yes\":\n",
    "  print(\"Eligible for a discount\")\n",
    "else:\n",
    "  print(\"Not eligible for a discount\")"
   ]
  },
  {
   "cell_type": "markdown",
   "metadata": {},
   "source": [
    "Question 7: Event Invitation"
   ]
  },
  {
   "cell_type": "code",
   "execution_count": null,
   "metadata": {},
   "outputs": [
    {
     "name": "stdout",
     "output_type": "stream",
     "text": [
      "Sorry, you are not invited.\n"
     ]
    }
   ],
   "source": [
    "guests = [\"Alice\", \"Bob\", \"Charlie\", \"David\", \"Eve\"]  # List of invited guests\n",
    "user_name = input(\"User Name: \")  # Get the user name\n",
    "\n",
    "if user_name in guests:\n",
    "    print(\"You are invited!\")  # Print if the user is in the guest list\n",
    "else:\n",
    "    print(\"Sorry, you are not invited.\")  # Print if the user is not invited"
   ]
  },
  {
   "cell_type": "markdown",
   "metadata": {},
   "source": [
    "Question 8: Movie Streaming Eligibility"
   ]
  },
  {
   "cell_type": "code",
   "execution_count": 54,
   "metadata": {},
   "outputs": [
    {
     "name": "stdout",
     "output_type": "stream",
     "text": [
      "You can watch Action Movies\n"
     ]
    }
   ],
   "source": [
    "age = int(input(\"Age: \"))\n",
    "movie_type = input(\"Movie Type: \")\n",
    "\n",
    "if movie_type.lower() == \"action movies\":\n",
    "    if age >= 18:\n",
    "        print(\"You can watch Action Movies\")\n",
    "    else:\n",
    "        print(\"You are not old enough to watch Action Movies\")\n",
    "elif movie_type.lower() == \"animated movies\":\n",
    "    print(\"You can watch Animated Movies\")\n",
    "elif movie_type.lower() == \"documentaries\":\n",
    "    if age >= 12:\n",
    "        print(\"You can watch Documentaries\")\n",
    "    else:\n",
    "        print(\"You are not old enough to watch Documentaries\")\n",
    "else:\n",
    "    print(\"Invalid movie type. Please choose from Action Movies, Animated Movies, or Documentaries.\")"
   ]
  },
  {
   "cell_type": "markdown",
   "metadata": {},
   "source": [
    "Question 9: Phone Number Formatter"
   ]
  },
  {
   "cell_type": "code",
   "execution_count": 56,
   "metadata": {},
   "outputs": [
    {
     "name": "stdout",
     "output_type": "stream",
     "text": [
      "(123) 456-7890\n"
     ]
    }
   ],
   "source": [
    "phone_number = input(\"Phone Number: \")\n",
    "\n",
    "formatted_number = \"({}) {}-{}\".format(phone_number[:3], phone_number[3:6], phone_number[6:])\n",
    "\n",
    "print(formatted_number)"
   ]
  },
  {
   "cell_type": "markdown",
   "metadata": {},
   "source": [
    "Question 10: Package Shipping Cost"
   ]
  },
  {
   "cell_type": "code",
   "execution_count": 58,
   "metadata": {},
   "outputs": [
    {
     "name": "stdout",
     "output_type": "stream",
     "text": [
      "Shipping Cost: $20\n"
     ]
    }
   ],
   "source": [
    "weight = float(input(\"Weight: \"))  # Get the weight of the package as input\n",
    "\n",
    "if weight <= 1:\n",
    "    shipping_cost = 5  # Cost for packages up to 1 kg\n",
    "elif weight > 1 and weight <= 5:\n",
    "    shipping_cost = 10  # Cost for packages between 1 and 5 kg\n",
    "elif weight > 5 and weight <= 20:\n",
    "    shipping_cost = 20  # Cost for packages between 5 and 20 kg\n",
    "else:\n",
    "    shipping_cost = 50  # Cost for packages above 20 kg\n",
    "\n",
    "print(\"Shipping Cost: $\" + str(shipping_cost))  # Print the shipping cost"
   ]
  },
  {
   "cell_type": "markdown",
   "metadata": {},
   "source": [
    "Question 11: Student Grading System"
   ]
  },
  {
   "cell_type": "code",
   "execution_count": 67,
   "metadata": {},
   "outputs": [
    {
     "name": "stdout",
     "output_type": "stream",
     "text": [
      "Total Marks: 300\n",
      "Percentage: 60.0 %\n",
      "Grade: D\n",
      "Result: Passed\n"
     ]
    }
   ],
   "source": [
    "# Get marks in five subjects\n",
    "subject1 = int(input(\"Marks in Subject 1: \"))\n",
    "subject2 = int(input(\"Marks in Subject 2: \"))\n",
    "subject3 = int(input(\"Marks in Subject 3: \"))\n",
    "subject4 = int(input(\"Marks in Subject 4: \"))\n",
    "subject5 = int(input(\"Marks in Subject 5: \"))\n",
    "\n",
    "# Calculate total marks and percentage\n",
    "total_marks = subject1 + subject2 + subject3 + subject4 + subject5\n",
    "percentage = (total_marks / 500) * 100\n",
    "\n",
    "# Determine grade\n",
    "if percentage >= 90:\n",
    "    grade = \"A\"\n",
    "elif percentage >= 80:\n",
    "    grade = \"B\"\n",
    "elif percentage >= 70:\n",
    "    grade = \"C\"\n",
    "elif percentage >= 60:\n",
    "    grade = \"D\"\n",
    "else:\n",
    "    grade = \"F\"\n",
    "\n",
    "# Determine result (pass or fail) based on total percentage\n",
    "if percentage >= 60:  # Corrected condition\n",
    "    result = \"Passed\"\n",
    "else:\n",
    "    result = \"Failed\"\n",
    "\n",
    "# Print results\n",
    "print(\"Total Marks:\", total_marks)\n",
    "print(\"Percentage:\", percentage, \"%\")\n",
    "print(\"Grade:\", grade)\n",
    "print(\"Result:\", result)"
   ]
  }
 ],
 "metadata": {
  "kernelspec": {
   "display_name": "Python 3",
   "language": "python",
   "name": "python3"
  },
  "language_info": {
   "codemirror_mode": {
    "name": "ipython",
    "version": 3
   },
   "file_extension": ".py",
   "mimetype": "text/x-python",
   "name": "python",
   "nbconvert_exporter": "python",
   "pygments_lexer": "ipython3",
   "version": "3.13.1"
  }
 },
 "nbformat": 4,
 "nbformat_minor": 2
}
